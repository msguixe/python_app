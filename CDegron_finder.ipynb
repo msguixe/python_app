{
 "cells": [
  {
   "cell_type": "markdown",
   "metadata": {},
   "source": [
    "# Python app: Find proteins containing c-terminal degrons\n",
    "\n",
    "This app finds and selects all proteins that contain c-terminal degrons."
   ]
  },
  {
   "cell_type": "markdown",
   "metadata": {},
   "source": [
    "1. Upload human gene data &rarr; anotate gene_name, transcript_name, protein_name\n",
    "\n",
    "2. Translate &rarr; anotate proteins\n",
    "\n",
    "3. Find c-degron sequences: use consensus sequences \n",
    "\n",
    "4. Results visualization  \n",
    "\n",
    "|Number|C-degrons|\n",
    "|--:|---------:|\n",
    "|1|-GG|  \n",
    "|2|-RG|  \n",
    "|3|-PG|  \n",
    "|4|-XR|  \n",
    "|5|-RXXG|  \n",
    "|6|-EE| \n",
    "|7|-RXX|  \n",
    "|8|-VX|  \n",
    "|9|-AX|  \n",
    "|10|-A|    \n",
    "\n",
    "Varshavsky *et al* 2019 (**Fig S3** Supl material)  \n",
    "Lin *et al* 2018  "
   ]
  },
  {
   "cell_type": "markdown",
   "metadata": {},
   "source": [
    "### 1. Upload genomic data"
   ]
  },
  {
   "cell_type": "code",
   "execution_count": 3,
   "metadata": {},
   "outputs": [],
   "source": [
    "#Download data from ensembl, use pyensembl (pypi.org/project/pyensembl/)\n",
    "\n",
    "from pyensembl import EnsemblRelease\n",
    "\n",
    "#help(EnsemblRelease)\n"
   ]
  },
  {
   "cell_type": "code",
   "execution_count": 4,
   "metadata": {},
   "outputs": [
    {
     "name": "stdout",
     "output_type": "stream",
     "text": [
      "['ENST00000434970.2', 'ENST00000415118.1', 'ENST00000448914.1', 'ENST00000631435.1', 'ENST00000632684.1', 'ENST00000390583.1', 'ENST00000431440.2', 'ENST00000632524.1', 'ENST00000633009.1', 'ENST00000634070.1']\n",
      "190432\n",
      "['CCTTCCTAC', 'GAAATAGT', 'ACTGGGGGATACG', 'GGGACAGGGGGC', 'GGGACAGGGGGC', 'GTATTACTATGGTTCGGGGAGTTATTATAAC', 'TGACTACAGTAACTAC', 'CTAACTGGGGA', 'GGTATAGTGGGAGCTACTAC', 'GGGTATAGCAGCGGCTAC']\n",
      "190432\n"
     ]
    }
   ],
   "source": [
    "#Import cDNA sequences (from local file)\n",
    "\n",
    "from Bio import SeqIO\n",
    "\n",
    "cdna_seqs = []\n",
    "cdna_ids = []\n",
    "for record in SeqIO.parse(\"Data/Homo_sapiens.GRCh38.cdna.all.fa\", \"fasta\"):\n",
    "    cdna_seqs.append(str(record.seq))\n",
    "    cdna_ids.append(record.id)\n",
    "\n",
    "print(cdna_ids[0:10])\n",
    "print(len(cdna_ids))\n",
    "print(cdna_seqs[0:10])\n",
    "print(len(cdna_seqs))"
   ]
  },
  {
   "cell_type": "code",
   "execution_count": 18,
   "metadata": {},
   "outputs": [
    {
     "name": "stdout",
     "output_type": "stream",
     "text": [
      "                       ID                                          Sequences\n",
      "0       ENST00000434970.2                                          CCTTCCTAC\n",
      "1       ENST00000415118.1                                           GAAATAGT\n",
      "2       ENST00000448914.1                                      ACTGGGGGATACG\n",
      "3       ENST00000631435.1                                       GGGACAGGGGGC\n",
      "4       ENST00000632684.1                                       GGGACAGGGGGC\n",
      "...                   ...                                                ...\n",
      "190427  ENST00000639660.1  GGCGTCTACAAGAGACCTTCCTTCTCAGCTCAACTGTGCCCTGCAG...\n",
      "190428  ENST00000673346.1  CTAACAGATGTCTCTATATTCCTCCTCCTCGAACTCTCAGAGGATC...\n",
      "190429  ENST00000673247.1  GTTACCTAACCAAACTCCTGCAAAACCACACCACCTATGACTGTGA...\n",
      "190430  ENST00000672305.1  GGCTGTGACCGTCTATGACAAGCCGGCATCTTTCTTTAAAGAGACA...\n",
      "190431  ENST00000671911.1  ACTCAGAGCTACTGCTGATCTCCTTCCAGGGCTTCCACTGGGACTA...\n",
      "\n",
      "[190432 rows x 2 columns]\n"
     ]
    }
   ],
   "source": [
    "#Create cDNA sequences table\n",
    "\n",
    "import pandas as pd\n",
    "\n",
    "frame = {'ID': cdna_ids, 'Sequences': cdna_seqs}\n",
    "cdna_df = pd.DataFrame(frame)\n",
    "print(cdna_df)"
   ]
  },
  {
   "cell_type": "code",
   "execution_count": 5,
   "metadata": {},
   "outputs": [
    {
     "name": "stdout",
     "output_type": "stream",
     "text": [
      "['ENSP00000451515.1', 'ENSP00000451042.1', 'ENSP00000452494.1', 'ENSP00000488240.1', 'ENSP00000487941.1', 'ENSP00000419773.1', 'ENSP00000430034.1', 'ENSP00000488695.1', 'ENSP00000488000.1', 'ENSP00000488392.1']\n",
      "111047\n",
      "['PSY', 'EI', 'TGGY', 'GTGG', 'GTGG', 'VLLWFGELL', '*LQ*L', 'LTG', 'GIVGAT', 'GYSSGY']\n",
      "111047\n"
     ]
    }
   ],
   "source": [
    "#Import protein sequences\n",
    "\n",
    "from Bio import SeqIO\n",
    "\n",
    "prot_seqs = []\n",
    "prot_ids = []\n",
    "for record in SeqIO.parse(\"Data/Homo_sapiens.GRCh38.pep.all.fa\", \"fasta\"):\n",
    "    prot_seqs.append(str(record.seq))\n",
    "    prot_ids.append(record.id)\n",
    "\n",
    "print(prot_ids[0:10])\n",
    "print(len(prot_ids))\n",
    "print(prot_seqs[0:10])\n",
    "print(len(prot_seqs))"
   ]
  },
  {
   "cell_type": "code",
   "execution_count": 21,
   "metadata": {},
   "outputs": [
    {
     "name": "stdout",
     "output_type": "stream",
     "text": [
      "                       ID                                          Sequences\n",
      "0       ENSP00000451515.1                                                PSY\n",
      "1       ENSP00000451042.1                                                 EI\n",
      "2       ENSP00000452494.1                                               TGGY\n",
      "3       ENSP00000488240.1                                               GTGG\n",
      "4       ENSP00000487941.1                                               GTGG\n",
      "...                   ...                                                ...\n",
      "111042  ENSP00000494625.1  RQGRCDTYATEFDLEAEEYVPLPKGDVHKKKEIIQDVTLHDLDVAN...\n",
      "111043  ENSP00000494933.1  MAGRRVNVNVGVLGHIDSGKTALARALSTTASTAAFDKQPQSRERG...\n",
      "111044  ENSP00000495578.1  MAGRRVNVNVGVLGHIDSGKTALARALSTTASTAAFDKQPQSRERG...\n",
      "111045  ENSP00000496548.1  MPSMLERISKNLVKEIGSKDLTPVKYLLSATKLRQFVILRKKKDSR...\n",
      "111046  ENSP00000494855.1  MPSMLERISKNLVKEIGSKDLTPVKYLLSATKLRQFVILRKKKDSR...\n",
      "\n",
      "[111047 rows x 2 columns]\n"
     ]
    }
   ],
   "source": [
    "#Create protein list table\n",
    "\n",
    "import pandas as pd\n",
    "\n",
    "frame = {'ID': prot_ids, 'Sequences': prot_seqs}\n",
    "prot_df = pd.DataFrame(frame)\n",
    "print(prot_df)"
   ]
  },
  {
   "cell_type": "markdown",
   "metadata": {},
   "source": [
    "### 2. cDNA to RNA and translation"
   ]
  },
  {
   "cell_type": "code",
   "execution_count": 22,
   "metadata": {},
   "outputs": [
    {
     "name": "stdout",
     "output_type": "stream",
     "text": [
      "CCUUCCUAC\n"
     ]
    }
   ],
   "source": [
    "#Generate RNA from a cDNA sequence\n",
    "\n",
    "def cdna_to_rna(dna_seq):\n",
    "    \"\"\"Creates the rna sequence of a given cdna sequence\"\"\"\n",
    "    base_dna_rna = {'A':'A', 'T':'U', 'C':'C', 'G':'G'}\n",
    "    rna_seq = ''\n",
    "    for base in dna_seq:\n",
    "        rna_seq += base_dna_rna[base]\n",
    "    return rna_seq\n",
    "\n",
    "dna1 = 'CCTTCCTAC'\n",
    "rna1 = cdna_to_rna(dna1)\n",
    "print(rna1)\n"
   ]
  },
  {
   "cell_type": "code",
   "execution_count": 9,
   "metadata": {},
   "outputs": [],
   "source": [
    "#Dictionary triplet RNA to aminoacid\n",
    "triplet_rna_aa = {'GAA': 'E', 'CGA': 'R', 'GUG': 'V', 'UAA': '*', 'CGU': 'R', 'AUA': 'I', 'GAC': 'D', 'UCG': 'S', \n",
    "                  'GAU': 'D', 'AUG': 'M', 'CUG': 'L', 'CUA': 'L', 'UAC': 'Y', 'GGA': 'G', 'CGG': 'R', 'AGC': 'S', \n",
    "                  'UCU': 'S', 'UGA': '*', 'AAA': 'K', 'ACC': 'T', 'ACA': 'T', 'UGC': 'C', 'AAG': 'K', 'GUC': 'V', \n",
    "                  'UCC': 'S', 'ACU': 'T', 'AGA': 'R', 'CUU': 'L', 'GCC': 'A', 'GUA': 'V', 'UAG': '*', 'CAA': 'Q', \n",
    "                  'CAC': 'H', 'GCU': 'A', 'UUA': 'L', 'CAU': 'H', 'CGC': 'R', 'UUC': 'F', 'AUU': 'I', 'GGC': 'G', \n",
    "                  'CAG': 'Q', 'AAC': 'N', 'CCC': 'P', 'GUU': 'V', 'AGG': 'R', 'UGU': 'C', 'CCG': 'P', 'GGG': 'G', \n",
    "                  'AUC': 'I', 'UUU': 'F', 'AAU': 'N', 'UCA': 'S', 'GAG': 'E', 'CCA': 'P', 'GCA': 'A', 'UAU': 'Y', \n",
    "                  'GGU': 'G', 'UGG': 'W', 'GCG': 'A', 'CUC': 'L', 'UUG': 'L', 'CCU': 'P', 'ACG': 'T', 'AGU': 'S'}\n"
   ]
  },
  {
   "cell_type": "code",
   "execution_count": 23,
   "metadata": {},
   "outputs": [],
   "source": [
    "#Generate a function for the genetic code\n",
    "\n",
    "def genetic_code(file):\n",
    "    gencode = open(file)\n",
    "    lines = gencode.read().splitlines()\n",
    "    genetic_code = {}\n",
    "    for line in lines:\n",
    "        codon, aa = line.split()\n",
    "        genetic_code[codon] = aa\n",
    "    return genetic_code"
   ]
  },
  {
   "cell_type": "code",
   "execution_count": 26,
   "metadata": {},
   "outputs": [
    {
     "name": "stdout",
     "output_type": "stream",
     "text": [
      "CCUUCCUAC\n",
      "PSY\n"
     ]
    }
   ],
   "source": [
    "#Translate rna sequence\n",
    "#Method 1 to generate the translated sequence (using a dictioniary created in this file)\n",
    "\n",
    "def translation(rna_seq):\n",
    "    \"\"\"Creates the protein sequence of a given rna sequence\"\"\"\n",
    "    rna_seq_triplets = [rna_seq[i:i+3] for i in range(0, len(rna_seq), 3)]\n",
    "    prot_seq = ''\n",
    "    for triplet in rna_seq_triplets:\n",
    "        prot_seq += triplet_rna_aa[triplet]\n",
    "    return prot_seq\n",
    "\n",
    "print(rna1)\n",
    "prot1 = translation(rna1)\n",
    "print(prot1)\n"
   ]
  },
  {
   "cell_type": "code",
   "execution_count": 27,
   "metadata": {},
   "outputs": [
    {
     "name": "stdout",
     "output_type": "stream",
     "text": [
      "CCUUCCUAC\n",
      "['CCU', 'UCC', 'UAC']\n",
      "PSY\n"
     ]
    }
   ],
   "source": [
    "#Method 2 to generate the translated sequence (using the function genetic code and gencode.txt file)\n",
    "\n",
    "print(rna1)\n",
    "\n",
    "rna_seq_triplets = [rna1[i:i+3] for i in range(0, len(rna1), 3)]\n",
    "prot_seq = ''\n",
    "for triplets in rna_seq_triplets:\n",
    "    triplet_to_aa = genetic_code('gencode.txt')\n",
    "    prot_seq += triplet_to_aa[triplets]\n",
    "\n",
    "print(rna_seq_triplets)\n",
    "print(prot_seq)\n"
   ]
  },
  {
   "cell_type": "code",
   "execution_count": 7,
   "metadata": {},
   "outputs": [
    {
     "name": "stdout",
     "output_type": "stream",
     "text": [
      "['CCUUCCUAC', 'GAAAUAGU', 'ACUGGGGGAUACG', 'GGGACAGGGGGC', 'GGGACAGGGGGC', 'GUAUUACUAUGGUUCGGGGAGUUAUUAUAAC', 'UGACUACAGUAACUAC', 'CUAACUGGGGA', 'GGUAUAGUGGGAGCUACUAC']\n"
     ]
    }
   ],
   "source": [
    "def cdna_to_rna(dna_seq_list):\n",
    "    \"\"\"Creates a list of rna sequences from a list of cdna sequences\"\"\"\n",
    "    rna_seq_list = []\n",
    "    for dna_seq in dna_seq_list:\n",
    "        base_dna_rna = {'T':'U', 'C':'C', 'A':'A', 'G':'G'}\n",
    "        rna_seq = ''\n",
    "        for base in dna_seq:\n",
    "            if base != 'N':\n",
    "                rna_seq += base_dna_rna[base]\n",
    "        rna_seq_list.append(rna_seq)\n",
    "    return rna_seq_list\n",
    "\n",
    "\n",
    "rna_seqs = cdna_to_rna(cdna_seqs)\n",
    "print(rna_seqs[0:10])\n"
   ]
  },
  {
   "cell_type": "code",
   "execution_count": 10,
   "metadata": {},
   "outputs": [
    {
     "name": "stdout",
     "output_type": "stream",
     "text": [
      "['PSY', 'EI', 'TGGY', 'GTGG', 'GTGG', 'VLLWFGELL*', '*LQ*L', 'LTG', 'GIVGAT', 'GYSSGY']\n"
     ]
    }
   ],
   "source": [
    "def translation(rna_seq_list):\n",
    "    \"\"\"Creates a list of protein sequences from a list of rna sequences\"\"\"\n",
    "    \n",
    "    prot_seq_list = []\n",
    "    for rna_seq in rna_seq_list:\n",
    "        rna_seq_triplets = [rna_seq[i:i+3] for i in range(0, len(rna_seq), 3)]\n",
    "        prot_seq = ''\n",
    "        \n",
    "        for triplet in rna_seq_triplets:\n",
    "            if len(triplet) == 3:\n",
    "                prot_seq += triplet_rna_aa[triplet]\n",
    "            else:\n",
    "                break\n",
    "                \n",
    "        prot_seq_list.append(prot_seq)\n",
    "    return prot_seq_list\n",
    "\n",
    "prot_seqs2 = translation(rna_seqs)\n",
    "print(prot_seqs2[0:10])\n",
    "\n",
    "#Pending: eliminate sequence after STOP codons..."
   ]
  },
  {
   "cell_type": "code",
   "execution_count": 70,
   "metadata": {},
   "outputs": [
    {
     "name": "stdout",
     "output_type": "stream",
     "text": [
      "111047\n",
      "['PSY', 'EI', 'TGGY', 'GTGG', 'GTGG', 'VLLWFGELL', '*LQ*L', 'LTG', 'GIVGAT']\n",
      "190432\n",
      "['PSY', 'EI', 'TGGY', 'GTGG', 'GTGG', 'VLLWFGELL*', '*LQ*L', 'LTG', 'GIVGAT']\n"
     ]
    }
   ],
   "source": [
    "print(len(prot_seqs))\n",
    "print(prot_seqs[0:9])\n",
    "print(len(prot_seqs2))\n",
    "print(prot_seqs2[0:9])"
   ]
  },
  {
   "cell_type": "markdown",
   "metadata": {},
   "source": [
    "### 3. List all proteins containing c-terminal degrons"
   ]
  },
  {
   "cell_type": "code",
   "execution_count": 30,
   "metadata": {},
   "outputs": [],
   "source": [
    "#Find c-degrons. Use regular expressions\n",
    "\n",
    "import re\n",
    "\n",
    "def find_cdegron(prot_seq_list, cdegron_motif):\n",
    "    \"\"\"Finds all proteins containing c-terminal degrons (cdegrons)\n",
    "    input: a list of protein sequences and the c-degron motif\n",
    "    return: a list of protein sequences containing the c-degron motif\"\"\"\n",
    "    cdegron_seq_list = []\n",
    "    for prot_seq in prot_seq_list:\n",
    "        find_cdegron_motif = re.findall(cdegron_motif, prot_seq)\n",
    "        if find_cdegron_motif != []:\n",
    "            cdegron_seq_list.append(prot_seq)\n",
    "    return cdegron_seq_list\n"
   ]
  },
  {
   "cell_type": "code",
   "execution_count": null,
   "metadata": {},
   "outputs": [],
   "source": [
    "#Pending: function to find degrons from cdna sequences\n",
    "#make if statements: if cdna... if protein... else print(\"The sequence cannot be recognized. Please upload a list of cdnas or proteins\")..."
   ]
  },
  {
   "cell_type": "code",
   "execution_count": 144,
   "metadata": {},
   "outputs": [],
   "source": [
    "#functions for finding c-degron motifs in prot_seqs list\n",
    "\n",
    "cdegron_motifs = ['GG', 'RG', 'PG', 'XR', 'RXXG', 'EE', 'RXX', 'VX', 'AX', 'A']\n",
    "\n",
    "#Prepare cdegron list to re terms:\n",
    "def cdegron_to_re (cdegron_motifs):\n",
    "    \"\"\"This function converts a list of c-degron motifs to regular expressions\"\"\"\n",
    "    cdegron_motifs_re = []\n",
    "    for motif in cdegron_motifs:\n",
    "        motif_re = motif +'$'\n",
    "        cdegron_motifs_re.append(motif_re)\n",
    "    cdegron_motifs_re = [c.replace('X', '.') for c in cdegron_motifs_re]\n",
    "    return cdegron_motifs_re\n",
    "\n",
    "#Search for each cdegron motif in a list of protein sequences:\n",
    "\n",
    "def find_cdegron_list(cdegron_motifs, prot_seqs):\n",
    "    \"\"\"This function finds all cdegron motifs provided in a list\"\"\"\n",
    "    cdegron_motifs_re = cdegron_to_re(cdegron_motifs)\n",
    "    n_cdegron_motifs = []\n",
    "    for i in range(len(cdegron_motifs_re)):\n",
    "        motif = cdegron_motifs_re[i]\n",
    "        cdegron_prot_list = find_cdegron(prot_seqs, motif)\n",
    "        n_cdegron_motifs.append(len(cdegron_prot_list))\n",
    "    return n_cdegron_motifs\n",
    "\n",
    "#Calculate the percentage of each c-degron motif:\n",
    "\n",
    "def percentages_cdegron (n_cdegron_motifs, prot_seqs):\n",
    "    \"\"\"This function calculates the percentage of proteins containing each c-degron provided\"\"\"\n",
    "    percent_degron_list = []\n",
    "    for i in range(len(n_cdegron_motifs)):\n",
    "        percent_degron_i = round(n_cdegron_motifs[i]/len(prot_seqs)*100, 3)\n",
    "        percent_degron_list.append(percent_degron_i)\n",
    "    total_n_cdegron = sum(n_cdegron_motifs)\n",
    "    percent_degrons_total = round(total_n_cdegron/len(prot_seqs)*100, 3)\n",
    "    return [total_n_cdegron, percent_degron_list, percent_degrons_total]\n",
    "\n",
    "#Output message:\n",
    "\n",
    "def results_summary (cdegron_motifs, n_cdegron_motifs, percentages_degrons, prot_seqs):\n",
    "    \"\"\"This function displays a summary of the results\"\"\"\n",
    "    total_n_cdegron = percentages_degrons[0]\n",
    "    percent_degron_list = percentages_degrons[1]\n",
    "    percent_degrons_total = percentages_degrons[2]\n",
    "    \n",
    "    sentence1 = \"The protein list you provided harbors:\\n\" \n",
    "    sentence2 = \"\"\n",
    "    for i in range(len(cdegron_motifs)): \n",
    "        sentencei = \"- \"+ str(n_cdegron_motifs[i]) + \" proteins with the \" + str(cdegron_motifs[i]) + \" c-degron motif (\" + str(percent_degron_list[i]) + \"%)\\n\"\n",
    "        sentence2 += sentencei\n",
    "    sentence3 = \"- \" + str(total_n_cdegron) + \" proteins with all c-degron motifs (\" + str(percent_degrons_total) +\"%)\\n\"\n",
    "\n",
    "    sentence4 = \"from a total \" + str(len(prot_seqs)) + \" proteins.\\n\"\n",
    "    sentence5 = sentence1 + sentence2 + sentence3 + sentence4\n",
    "    return sentence5\n",
    "\n",
    "#Pending: List of lists... create a list of sequences for each cdegron motif"
   ]
  },
  {
   "cell_type": "code",
   "execution_count": 145,
   "metadata": {},
   "outputs": [
    {
     "name": "stdout",
     "output_type": "stream",
     "text": [
      "['GG$', 'RG$', 'PG$', '.R$', 'R..G$', 'EE$', 'R..$', 'V.$', 'A.$', 'A$']\n",
      "[799, 686, 793, 10074, 552, 520, 9804, 8693, 9266, 8910]\n",
      "[50097, [0.42, 0.36, 0.416, 5.29, 0.29, 0.273, 5.148, 4.565, 4.866, 4.679], 26.307]\n",
      "The protein list you provided harbors:\n",
      "- 799 proteins with the GG c-degron motif (0.42%)\n",
      "- 686 proteins with the RG c-degron motif (0.36%)\n",
      "- 793 proteins with the PG c-degron motif (0.416%)\n",
      "- 10074 proteins with the XR c-degron motif (5.29%)\n",
      "- 552 proteins with the RXXG c-degron motif (0.29%)\n",
      "- 520 proteins with the EE c-degron motif (0.273%)\n",
      "- 9804 proteins with the RXX c-degron motif (5.148%)\n",
      "- 8693 proteins with the VX c-degron motif (4.565%)\n",
      "- 9266 proteins with the AX c-degron motif (4.866%)\n",
      "- 8910 proteins with the A c-degron motif (4.679%)\n",
      "- 50097 proteins with all c-degron motifs (26.307%)\n",
      "from the total 190432 proteins.\n",
      "\n"
     ]
    }
   ],
   "source": [
    "#Test the functions\n",
    "#Data:\n",
    "cdegron_motifs = ['GG', 'RG', 'PG', 'XR', 'RXXG', 'EE', 'RXX', 'VX', 'AX', 'A']\n",
    "prot_seqs1000 = prot_seqs[0:1000]\n",
    "\n",
    "#cdegron_to_re\n",
    "cdegron_re = cdegron_to_re(cdegron_motifs)\n",
    "print(cdegron_re)\n",
    "\n",
    "#find_cdegron_list\n",
    "cdegron_list2 = find_cdegron_list(cdegron_motifs, prot_seqs2)\n",
    "print(cdegron_list2)\n",
    "\n",
    "#percentages_cdegron\n",
    "percents2 = percentages_cdegron(cdegron_list2, prot_seqs2)\n",
    "print(percents2)\n",
    "\n",
    "#results_summary\n",
    "output2 = results_message(cdegron_motifs, cdegron_list2, percents2, prot_seqs2)\n",
    "print(output2)\n",
    "\n",
    "#Pending: Implement functions inside other functions!!\n"
   ]
  },
  {
   "cell_type": "code",
   "execution_count": null,
   "metadata": {},
   "outputs": [],
   "source": [
    "#Pending: List and enumerate all proteins containing c-degrons: ANNOTATION, pandas\n",
    "#Pending: Save outputs (protein ids+seqs, summary, etc) in files"
   ]
  },
  {
   "cell_type": "markdown",
   "metadata": {},
   "source": [
    "## Data visualisation"
   ]
  },
  {
   "cell_type": "code",
   "execution_count": null,
   "metadata": {},
   "outputs": [],
   "source": [
    "# Percentages, etc...\n",
    "\n"
   ]
  }
 ],
 "metadata": {
  "kernelspec": {
   "display_name": "Python 3",
   "language": "python",
   "name": "python3"
  },
  "language_info": {
   "codemirror_mode": {
    "name": "ipython",
    "version": 3
   },
   "file_extension": ".py",
   "mimetype": "text/x-python",
   "name": "python",
   "nbconvert_exporter": "python",
   "pygments_lexer": "ipython3",
   "version": "3.7.4"
  }
 },
 "nbformat": 4,
 "nbformat_minor": 4
}
