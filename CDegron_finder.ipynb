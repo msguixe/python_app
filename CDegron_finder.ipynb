{
 "cells": [
  {
   "cell_type": "markdown",
   "metadata": {},
   "source": [
    "# Python app: Find proteins containing c-terminal degrons\n",
    "\n",
    "This app finds and selects all proteins that contain c-terminal degrons."
   ]
  },
  {
   "cell_type": "markdown",
   "metadata": {},
   "source": [
    "1. Upload human gene data &rarr; anotate gene_name, transcript_name, protein_name\n",
    "\n",
    "2. Translate &rarr; anotate proteins\n",
    "\n",
    "3. Find c-degron sequences: use consensus sequences \n",
    "\n",
    "4. Results visualization  \n",
    "\n",
    "|Number|C-degrons|\n",
    "|--:|---------:|\n",
    "|1|-GG|  \n",
    "|2|-RG|  \n",
    "|3|-PG|  \n",
    "|4|-XR|  \n",
    "|5|-RXXG|  \n",
    "|6|-EE| \n",
    "|7|-RXX|  \n",
    "|8|-VX|  \n",
    "|9|-AX|  \n",
    "|10|-A|    \n",
    "\n",
    "Varshavsky *et al* 2019 (**Fig S3** Supl material)  \n",
    "Lin *et al* 2018  "
   ]
  },
  {
   "cell_type": "markdown",
   "metadata": {},
   "source": [
    "### 1. Upload genomic data"
   ]
  },
  {
   "cell_type": "code",
   "execution_count": 1,
   "metadata": {},
   "outputs": [],
   "source": [
    "from pyensembl import EnsemblRelease\n",
    "from Bio import SeqIO\n",
    "import pandas as pd\n",
    "import re\n"
   ]
  },
  {
   "cell_type": "code",
   "execution_count": 1,
   "metadata": {},
   "outputs": [],
   "source": [
    "#Pending: download data from ensembl, use pyensembl (pypi.org/project/pyensembl/)\n",
    "\n",
    "#help(EnsemblRelease)\n"
   ]
  },
  {
   "cell_type": "code",
   "execution_count": 2,
   "metadata": {},
   "outputs": [
    {
     "name": "stdout",
     "output_type": "stream",
     "text": [
      "['GENSCAN00000000001', 'GENSCAN00000000002', 'GENSCAN00000000003']\n",
      "51756\n",
      "['ATGGAAAGAGGAAAGAAGAAAAGAATTTCCAATAAGTTACAACAAACTTTTCACCATTCTAAAGAACCCACTTTCCTTATCAACCAAGCTGGGCTTCTCTCTAGTGACTCCTATTCTAGCCTTTCCCCAGAAACAGAGAGTGTTAATCCTGGTGAAAATATAAAGACAGACACTCAGAAAAAGAGACCTGGGACTGTGATACTATCAAAACTGTCAAGTAGAAGAATTATATCGGAAAGCCAGCTTAGCCCCCCTGTGATCCCGGCCCGCAGGCCTGGATTCCGGGTATGCTATATCTGTGGCCGAGAATTTGGGTCCCAGTCAATTGCCATTCATGAACCCCAGTGCTTGCAGAAGTGGCATATTGAAAACAGCAAGTTGCCCAAGCATTTGAGGAGGCCAGAACCCTCCAAACCACAGTCTCTCAGCAGCAGTGGGTCCTACAGTCTTCAGGCAACTAACGAGGCTGCATTTCAGAGTGCCCAGGCTCAGCTGCTGCCCTGTGAATCCTGTGGCCGCACATTCTTGCCAGATCATCTTCTTGTTCATCACAGAAGCTGCAAGCCAAAGGGTGAGGGTCCCAGAGCACCACACTCAAACAGTTCTGATCATCTTACTGGCCTCAAGAAAGCTTGTAGTGGAACCCCAGCCCGACCAAGGACTGTTATCTGCTACATATGTGGTAAGGAATTTGGCACCCTGTCCCTTCCTATTCATGAGCCCAAATGCCTGGAAAAGTGGAAAATGGAAAATGACCGGCTCCCTGTGGAGCTCCACCAGCCACTCCCACAGAAGCCTCAGCCCCTTCCGAATGCACAGTCCAGCCAAGCGGGACCAAATCAAGCTCAGCTTGTGTTCTGCCCACATTGTAGCCGAATCTTTACCTCAGACCGCCTCCTGGTACACCAGAGAAGTTGTAAAACTCATCCTTATGGGCCAAAATATCAGAATTTGAATTTAGGGAGTAAAGGAGGCCTAAAAGAGTACACTAATTCCAAGCAGCAAAGGAACAGGGCAGCACCCAGTGTAACTGATAAGGTAATTCATGCCACACAAGACGCATTAGGTGAACCTGGTGGTGCCCTCTGCCTGTAG', 'ATGATGAACAGAATGGCCCCAGAGAATTTCCAGCCAGACCCTTTCATCAACAGGAATGATTCCAACATGAAGTATGAAGAGCTAGAAGCTCTGTTTAGCCAGACTATGTTCCCAGATAGAAATCTTCAGGAGAAACTAGCTTTGAAACGCAACCTACTGGAGTCAACAGGTAAAGGCTTGGTTCAGGAACTGGCAATTCAGATTGAAGCAGCAGCAGCAGCAGCAGCAGCAGCAGCAATCAGCAAAGCAAGCAAACCAGATCCTTTCATCCAAGAAGAATGTGCCCACCTCCCCTAG', 'ATGGATGACTCTAAGGGCAATGGAAAGAGGGCTAAGATTAGAGGTAAGGGTCCCAAGATATTCCTCAAGAGTCTCCTGGCCACACTGCCAAACACATCATATGTCTGTGCCTCAGAACCTCAGCTTTCACCCTACCTGTGTGAATTCTTCCCTGGAGTGAACCTCTTGGATGTGGAACATGACAGAACCAATACTGGTGAACAACAGTCCTCCAAGCAAATGATAGTGCTACATACAAAGGAAGTTGGAATGGATATTGGTTAA']\n",
      "51756\n"
     ]
    }
   ],
   "source": [
    "#Import cDNA sequences (from local file)\n",
    "\n",
    "cdna_seqs = []\n",
    "cdna_ids = []\n",
    "for record in SeqIO.parse(\"Data/Homo_sapiens.GRCh38.cdna.abinitio.fa\", \"fasta\"):\n",
    "    cdna_seqs.append(str(record.seq))\n",
    "    cdna_ids.append(record.id)\n",
    "\n",
    "print(cdna_ids[0:3])\n",
    "print(len(cdna_ids))\n",
    "print(cdna_seqs[0:3])\n",
    "print(len(cdna_seqs))"
   ]
  },
  {
   "cell_type": "markdown",
   "metadata": {},
   "source": [
    "- Create tables (IDs + sequences):"
   ]
  },
  {
   "cell_type": "code",
   "execution_count": 3,
   "metadata": {},
   "outputs": [
    {
     "name": "stdout",
     "output_type": "stream",
     "text": [
      "                       ID                                          Sequences\n",
      "0      GENSCAN00000000001  ATGGAAAGAGGAAAGAAGAAAAGAATTTCCAATAAGTTACAACAAA...\n",
      "1      GENSCAN00000000002  ATGATGAACAGAATGGCCCCAGAGAATTTCCAGCCAGACCCTTTCA...\n",
      "2      GENSCAN00000000003  ATGGATGACTCTAAGGGCAATGGAAAGAGGGCTAAGATTAGAGGTA...\n",
      "3      GENSCAN00000000004  ATGAAGGAATATCTGGATCATGGAGCACTCGAGTTTTTGCTCCAAC...\n",
      "4      GENSCAN00000000005  ATGGAAGCCCCTGAATACCTTGATTTGGATGAAATTGACTTTAGTG...\n",
      "...                   ...                                                ...\n",
      "51751  GENSCAN00000056639  ATGCATGAAGCTTTCTGCGGTTTAGAAGCCAAATCATTCTGGTGGT...\n",
      "51752  GENSCAN00000056640  ATGATGGCACGTCGGGACCCCAAATCTTGGGCCAAGAGACTGGTGA...\n",
      "51753  GENSCAN00000056641  ATGGGACTGACCCTGAACTTAGAGCCGCCCCCAGGCTGGAACCTGG...\n",
      "51754  GENSCAN00000056642  ATGGAGGACGACTCACTCTACTTGGGAGGTGAGTGGCAGTTCAACC...\n",
      "51755  GENSCAN00000056643  ATGACGGCACGTCGTGACCCCAAACCTGGGGCAAAGAGACTGGTGA...\n",
      "\n",
      "[51756 rows x 2 columns]\n"
     ]
    }
   ],
   "source": [
    "#Create cDNA sequences table\n",
    "\n",
    "frame = {'ID': cdna_ids, 'Sequences': cdna_seqs}\n",
    "cdna_df = pd.DataFrame(frame)\n",
    "print(cdna_df)"
   ]
  },
  {
   "cell_type": "code",
   "execution_count": 4,
   "metadata": {},
   "outputs": [
    {
     "name": "stdout",
     "output_type": "stream",
     "text": [
      "['GENSCAN00000000001', 'GENSCAN00000000002', 'GENSCAN00000000003']\n",
      "51756\n",
      "['MERGKKKRISNKLQQTFHHSKEPTFLINQAGLLSSDSYSSLSPETESVNPGENIKTDTQKKRPGTVILSKLSSRRIISESQLSPPVIPARRPGFRVCYICGREFGSQSIAIHEPQCLQKWHIENSKLPKHLRRPEPSKPQSLSSSGSYSLQATNEAAFQSAQAQLLPCESCGRTFLPDHLLVHHRSCKPKGEGPRAPHSNSSDHLTGLKKACSGTPARPRTVICYICGKEFGTLSLPIHEPKCLEKWKMENDRLPVELHQPLPQKPQPLPNAQSSQAGPNQAQLVFCPHCSRIFTSDRLLVHQRSCKTHPYGPKYQNLNLGSKGGLKEYTNSKQQRNRAAPSVTDKVIHATQDALGEPGGALCL', 'MMNRMAPENFQPDPFINRNDSNMKYEELEALFSQTMFPDRNLQEKLALKRNLLESTGKGLVQELAIQIEAAAAAAAAAAISKASKPDPFIQEECAHLP', 'MDDSKGNGKRAKIRGKGPKIFLKSLLATLPNTSYVCASEPQLSPYLCEFFPGVNLLDVEHDRTNTGEQQSSKQMIVLHTKEVGMDIG']\n",
      "51756\n"
     ]
    }
   ],
   "source": [
    "#Import protein sequences\n",
    "\n",
    "prot_seqs = []\n",
    "prot_ids = []\n",
    "for record in SeqIO.parse(\"Data/Homo_sapiens.GRCh38.pep.abinitio.fa\", \"fasta\"):\n",
    "    prot_seqs.append(str(record.seq))\n",
    "    prot_ids.append(record.id)\n",
    "\n",
    "print(prot_ids[0:3])\n",
    "print(len(prot_ids))\n",
    "print(prot_seqs[0:3])\n",
    "print(len(prot_seqs))"
   ]
  },
  {
   "cell_type": "code",
   "execution_count": 5,
   "metadata": {},
   "outputs": [
    {
     "name": "stdout",
     "output_type": "stream",
     "text": [
      "                       ID                                          Sequences\n",
      "0      GENSCAN00000000001  MERGKKKRISNKLQQTFHHSKEPTFLINQAGLLSSDSYSSLSPETE...\n",
      "1      GENSCAN00000000002  MMNRMAPENFQPDPFINRNDSNMKYEELEALFSQTMFPDRNLQEKL...\n",
      "2      GENSCAN00000000003  MDDSKGNGKRAKIRGKGPKIFLKSLLATLPNTSYVCASEPQLSPYL...\n",
      "3      GENSCAN00000000004  MKEYLDHGALEFLLQQKQWSCFDSTAQWWAEGGNGDCRRNLDGEID...\n",
      "4      GENSCAN00000000005  MEAPEYLDLDEIDFSDDISDNRSQGNRLQKLGLEDTDREDAMGFGS...\n",
      "...                   ...                                                ...\n",
      "51751  GENSCAN00000056639  MHEAFCGLEAKSFWWFNLCQKTPLSFWGRDEGQGAASKDALRTARA...\n",
      "51752  GENSCAN00000056640  MMARRDPKSWAKRLVRAQTLQKQRRAPVGPRAPPPDEEDPRLKCKN...\n",
      "51753  GENSCAN00000056641  MGLTLNLEPPPGWNLGSPARPPGGTGALPRGPRLVLSSFQAQAWRP...\n",
      "51754  GENSCAN00000056642  MEDDSLYLGGEWQFNHFSKLTSSRPDAAFAEIQRTSLPEKSPLSSE...\n",
      "51755  GENSCAN00000056643  MTARRDPKPGAKRLVRAQTLQKQRRAPVGPRAPPPDEEDPRLKCKN...\n",
      "\n",
      "[51756 rows x 2 columns]\n"
     ]
    }
   ],
   "source": [
    "#Create protein list table\n",
    "\n",
    "frame = {'ID': prot_ids, 'Sequences': prot_seqs}\n",
    "prot_df = pd.DataFrame(frame)\n",
    "print(prot_df)"
   ]
  },
  {
   "cell_type": "markdown",
   "metadata": {},
   "source": [
    "### 2. cDNA to RNA and translation"
   ]
  },
  {
   "cell_type": "markdown",
   "metadata": {},
   "source": [
    "- From cDNA to RNA:"
   ]
  },
  {
   "cell_type": "code",
   "execution_count": 6,
   "metadata": {},
   "outputs": [
    {
     "name": "stdout",
     "output_type": "stream",
     "text": [
      "['AUGGAAAGAGGAAAGAAGAAAAGAAUUUCCAAUAAGUUACAACAAACUUUUCACCAUUCUAAAGAACCCACUUUCCUUAUCAACCAAGCUGGGCUUCUCUCUAGUGACUCCUAUUCUAGCCUUUCCCCAGAAACAGAGAGUGUUAAUCCUGGUGAAAAUAUAAAGACAGACACUCAGAAAAAGAGACCUGGGACUGUGAUACUAUCAAAACUGUCAAGUAGAAGAAUUAUAUCGGAAAGCCAGCUUAGCCCCCCUGUGAUCCCGGCCCGCAGGCCUGGAUUCCGGGUAUGCUAUAUCUGUGGCCGAGAAUUUGGGUCCCAGUCAAUUGCCAUUCAUGAACCCCAGUGCUUGCAGAAGUGGCAUAUUGAAAACAGCAAGUUGCCCAAGCAUUUGAGGAGGCCAGAACCCUCCAAACCACAGUCUCUCAGCAGCAGUGGGUCCUACAGUCUUCAGGCAACUAACGAGGCUGCAUUUCAGAGUGCCCAGGCUCAGCUGCUGCCCUGUGAAUCCUGUGGCCGCACAUUCUUGCCAGAUCAUCUUCUUGUUCAUCACAGAAGCUGCAAGCCAAAGGGUGAGGGUCCCAGAGCACCACACUCAAACAGUUCUGAUCAUCUUACUGGCCUCAAGAAAGCUUGUAGUGGAACCCCAGCCCGACCAAGGACUGUUAUCUGCUACAUAUGUGGUAAGGAAUUUGGCACCCUGUCCCUUCCUAUUCAUGAGCCCAAAUGCCUGGAAAAGUGGAAAAUGGAAAAUGACCGGCUCCCUGUGGAGCUCCACCAGCCACUCCCACAGAAGCCUCAGCCCCUUCCGAAUGCACAGUCCAGCCAAGCGGGACCAAAUCAAGCUCAGCUUGUGUUCUGCCCACAUUGUAGCCGAAUCUUUACCUCAGACCGCCUCCUGGUACACCAGAGAAGUUGUAAAACUCAUCCUUAUGGGCCAAAAUAUCAGAAUUUGAAUUUAGGGAGUAAAGGAGGCCUAAAAGAGUACACUAAUUCCAAGCAGCAAAGGAACAGGGCAGCACCCAGUGUAACUGAUAAGGUAAUUCAUGCCACACAAGACGCAUUAGGUGAACCUGGUGGUGCCCUCUGCCUGUAG', 'AUGAUGAACAGAAUGGCCCCAGAGAAUUUCCAGCCAGACCCUUUCAUCAACAGGAAUGAUUCCAACAUGAAGUAUGAAGAGCUAGAAGCUCUGUUUAGCCAGACUAUGUUCCCAGAUAGAAAUCUUCAGGAGAAACUAGCUUUGAAACGCAACCUACUGGAGUCAACAGGUAAAGGCUUGGUUCAGGAACUGGCAAUUCAGAUUGAAGCAGCAGCAGCAGCAGCAGCAGCAGCAGCAAUCAGCAAAGCAAGCAAACCAGAUCCUUUCAUCCAAGAAGAAUGUGCCCACCUCCCCUAG', 'AUGGAUGACUCUAAGGGCAAUGGAAAGAGGGCUAAGAUUAGAGGUAAGGGUCCCAAGAUAUUCCUCAAGAGUCUCCUGGCCACACUGCCAAACACAUCAUAUGUCUGUGCCUCAGAACCUCAGCUUUCACCCUACCUGUGUGAAUUCUUCCCUGGAGUGAACCUCUUGGAUGUGGAACAUGACAGAACCAAUACUGGUGAACAACAGUCCUCCAAGCAAAUGAUAGUGCUACAUACAAAGGAAGUUGGAAUGGAUAUUGGUUAA']\n"
     ]
    }
   ],
   "source": [
    "def cdna_to_rna(dna_seq_list):\n",
    "    \"\"\"Creates a list of rna sequences from a list of cdna sequences\"\"\"\n",
    "    rna_seq_list = []\n",
    "    for dna_seq in dna_seq_list:\n",
    "        base_dna_rna = {'A':'A', 'T':'U', 'C':'C', 'G':'G'}\n",
    "        rna_seq = ''\n",
    "        for base in dna_seq:\n",
    "             if base != 'N':\n",
    "                rna_seq += base_dna_rna[base]\n",
    "        rna_seq_list.append(rna_seq)\n",
    "    return rna_seq_list\n",
    "\n",
    "rna_seqs = cdna_to_rna(cdna_seqs)\n",
    "print(rna_seqs[0:3])"
   ]
  },
  {
   "cell_type": "markdown",
   "metadata": {},
   "source": [
    "- From RNA to protein (translation):"
   ]
  },
  {
   "cell_type": "code",
   "execution_count": 10,
   "metadata": {},
   "outputs": [],
   "source": [
    "#Method 1 to generate the translated sequence (using this dictioniary)\n",
    "\n",
    "#Dictionary triplet RNA to aminoacid:\n",
    "triplet_rna_aa = {'GAA': 'E', 'CGA': 'R', 'GUG': 'V', 'UAA': '*', 'CGU': 'R', 'AUA': 'I', 'GAC': 'D', 'UCG': 'S', \n",
    "                  'GAU': 'D', 'AUG': 'M', 'CUG': 'L', 'CUA': 'L', 'UAC': 'Y', 'GGA': 'G', 'CGG': 'R', 'AGC': 'S', \n",
    "                  'UCU': 'S', 'UGA': '*', 'AAA': 'K', 'ACC': 'T', 'ACA': 'T', 'UGC': 'C', 'AAG': 'K', 'GUC': 'V', \n",
    "                  'UCC': 'S', 'ACU': 'T', 'AGA': 'R', 'CUU': 'L', 'GCC': 'A', 'GUA': 'V', 'UAG': '*', 'CAA': 'Q', \n",
    "                  'CAC': 'H', 'GCU': 'A', 'UUA': 'L', 'CAU': 'H', 'CGC': 'R', 'UUC': 'F', 'AUU': 'I', 'GGC': 'G', \n",
    "                  'CAG': 'Q', 'AAC': 'N', 'CCC': 'P', 'GUU': 'V', 'AGG': 'R', 'UGU': 'C', 'CCG': 'P', 'GGG': 'G', \n",
    "                  'AUC': 'I', 'UUU': 'F', 'AAU': 'N', 'UCA': 'S', 'GAG': 'E', 'CCA': 'P', 'GCA': 'A', 'UAU': 'Y', \n",
    "                  'GGU': 'G', 'UGG': 'W', 'GCG': 'A', 'CUC': 'L', 'UUG': 'L', 'CCU': 'P', 'ACG': 'T', 'AGU': 'S'}\n"
   ]
  },
  {
   "cell_type": "code",
   "execution_count": 8,
   "metadata": {},
   "outputs": [],
   "source": [
    "#Method 2 to generate the translated sequence (using a function for the genetic code and gencode.txt file)\n",
    "\n",
    "#Generate a function for the genetic code\n",
    "\n",
    "def genetic_code(file):\n",
    "    gencode = open(file)\n",
    "    lines = gencode.read().splitlines()\n",
    "    genetic_code = {}\n",
    "    for line in lines:\n",
    "        codon, aa = line.split()\n",
    "        genetic_code[codon] = aa\n",
    "    return genetic_code"
   ]
  },
  {
   "cell_type": "code",
   "execution_count": 9,
   "metadata": {},
   "outputs": [
    {
     "name": "stdout",
     "output_type": "stream",
     "text": [
      "AUGGAAAGAGGAAAGAAGAAAAGAAUUUCCAAUAAGUUACAACAAACUUUUCACCAUUCUAAAGAACCCACUUUCCUUAUCAACCAAGCUGGGCUUCUCUCUAGUGACUCCUAUUCUAGCCUUUCCCCAGAAACAGAGAGUGUUAAUCCUGGUGAAAAUAUAAAGACAGACACUCAGAAAAAGAGACCUGGGACUGUGAUACUAUCAAAACUGUCAAGUAGAAGAAUUAUAUCGGAAAGCCAGCUUAGCCCCCCUGUGAUCCCGGCCCGCAGGCCUGGAUUCCGGGUAUGCUAUAUCUGUGGCCGAGAAUUUGGGUCCCAGUCAAUUGCCAUUCAUGAACCCCAGUGCUUGCAGAAGUGGCAUAUUGAAAACAGCAAGUUGCCCAAGCAUUUGAGGAGGCCAGAACCCUCCAAACCACAGUCUCUCAGCAGCAGUGGGUCCUACAGUCUUCAGGCAACUAACGAGGCUGCAUUUCAGAGUGCCCAGGCUCAGCUGCUGCCCUGUGAAUCCUGUGGCCGCACAUUCUUGCCAGAUCAUCUUCUUGUUCAUCACAGAAGCUGCAAGCCAAAGGGUGAGGGUCCCAGAGCACCACACUCAAACAGUUCUGAUCAUCUUACUGGCCUCAAGAAAGCUUGUAGUGGAACCCCAGCCCGACCAAGGACUGUUAUCUGCUACAUAUGUGGUAAGGAAUUUGGCACCCUGUCCCUUCCUAUUCAUGAGCCCAAAUGCCUGGAAAAGUGGAAAAUGGAAAAUGACCGGCUCCCUGUGGAGCUCCACCAGCCACUCCCACAGAAGCCUCAGCCCCUUCCGAAUGCACAGUCCAGCCAAGCGGGACCAAAUCAAGCUCAGCUUGUGUUCUGCCCACAUUGUAGCCGAAUCUUUACCUCAGACCGCCUCCUGGUACACCAGAGAAGUUGUAAAACUCAUCCUUAUGGGCCAAAAUAUCAGAAUUUGAAUUUAGGGAGUAAAGGAGGCCUAAAAGAGUACACUAAUUCCAAGCAGCAAAGGAACAGGGCAGCACCCAGUGUAACUGAUAAGGUAAUUCAUGCCACACAAGACGCAUUAGGUGAACCUGGUGGUGCCCUCUGCCUGUAG\n",
      "['AUG', 'GAA', 'AGA', 'GGA', 'AAG', 'AAG', 'AAA', 'AGA', 'AUU', 'UCC', 'AAU', 'AAG', 'UUA', 'CAA', 'CAA', 'ACU', 'UUU', 'CAC', 'CAU', 'UCU', 'AAA', 'GAA', 'CCC', 'ACU', 'UUC', 'CUU', 'AUC', 'AAC', 'CAA', 'GCU', 'GGG', 'CUU', 'CUC', 'UCU', 'AGU', 'GAC', 'UCC', 'UAU', 'UCU', 'AGC', 'CUU', 'UCC', 'CCA', 'GAA', 'ACA', 'GAG', 'AGU', 'GUU', 'AAU', 'CCU', 'GGU', 'GAA', 'AAU', 'AUA', 'AAG', 'ACA', 'GAC', 'ACU', 'CAG', 'AAA', 'AAG', 'AGA', 'CCU', 'GGG', 'ACU', 'GUG', 'AUA', 'CUA', 'UCA', 'AAA', 'CUG', 'UCA', 'AGU', 'AGA', 'AGA', 'AUU', 'AUA', 'UCG', 'GAA', 'AGC', 'CAG', 'CUU', 'AGC', 'CCC', 'CCU', 'GUG', 'AUC', 'CCG', 'GCC', 'CGC', 'AGG', 'CCU', 'GGA', 'UUC', 'CGG', 'GUA', 'UGC', 'UAU', 'AUC', 'UGU', 'GGC', 'CGA', 'GAA', 'UUU', 'GGG', 'UCC', 'CAG', 'UCA', 'AUU', 'GCC', 'AUU', 'CAU', 'GAA', 'CCC', 'CAG', 'UGC', 'UUG', 'CAG', 'AAG', 'UGG', 'CAU', 'AUU', 'GAA', 'AAC', 'AGC', 'AAG', 'UUG', 'CCC', 'AAG', 'CAU', 'UUG', 'AGG', 'AGG', 'CCA', 'GAA', 'CCC', 'UCC', 'AAA', 'CCA', 'CAG', 'UCU', 'CUC', 'AGC', 'AGC', 'AGU', 'GGG', 'UCC', 'UAC', 'AGU', 'CUU', 'CAG', 'GCA', 'ACU', 'AAC', 'GAG', 'GCU', 'GCA', 'UUU', 'CAG', 'AGU', 'GCC', 'CAG', 'GCU', 'CAG', 'CUG', 'CUG', 'CCC', 'UGU', 'GAA', 'UCC', 'UGU', 'GGC', 'CGC', 'ACA', 'UUC', 'UUG', 'CCA', 'GAU', 'CAU', 'CUU', 'CUU', 'GUU', 'CAU', 'CAC', 'AGA', 'AGC', 'UGC', 'AAG', 'CCA', 'AAG', 'GGU', 'GAG', 'GGU', 'CCC', 'AGA', 'GCA', 'CCA', 'CAC', 'UCA', 'AAC', 'AGU', 'UCU', 'GAU', 'CAU', 'CUU', 'ACU', 'GGC', 'CUC', 'AAG', 'AAA', 'GCU', 'UGU', 'AGU', 'GGA', 'ACC', 'CCA', 'GCC', 'CGA', 'CCA', 'AGG', 'ACU', 'GUU', 'AUC', 'UGC', 'UAC', 'AUA', 'UGU', 'GGU', 'AAG', 'GAA', 'UUU', 'GGC', 'ACC', 'CUG', 'UCC', 'CUU', 'CCU', 'AUU', 'CAU', 'GAG', 'CCC', 'AAA', 'UGC', 'CUG', 'GAA', 'AAG', 'UGG', 'AAA', 'AUG', 'GAA', 'AAU', 'GAC', 'CGG', 'CUC', 'CCU', 'GUG', 'GAG', 'CUC', 'CAC', 'CAG', 'CCA', 'CUC', 'CCA', 'CAG', 'AAG', 'CCU', 'CAG', 'CCC', 'CUU', 'CCG', 'AAU', 'GCA', 'CAG', 'UCC', 'AGC', 'CAA', 'GCG', 'GGA', 'CCA', 'AAU', 'CAA', 'GCU', 'CAG', 'CUU', 'GUG', 'UUC', 'UGC', 'CCA', 'CAU', 'UGU', 'AGC', 'CGA', 'AUC', 'UUU', 'ACC', 'UCA', 'GAC', 'CGC', 'CUC', 'CUG', 'GUA', 'CAC', 'CAG', 'AGA', 'AGU', 'UGU', 'AAA', 'ACU', 'CAU', 'CCU', 'UAU', 'GGG', 'CCA', 'AAA', 'UAU', 'CAG', 'AAU', 'UUG', 'AAU', 'UUA', 'GGG', 'AGU', 'AAA', 'GGA', 'GGC', 'CUA', 'AAA', 'GAG', 'UAC', 'ACU', 'AAU', 'UCC', 'AAG', 'CAG', 'CAA', 'AGG', 'AAC', 'AGG', 'GCA', 'GCA', 'CCC', 'AGU', 'GUA', 'ACU', 'GAU', 'AAG', 'GUA', 'AUU', 'CAU', 'GCC', 'ACA', 'CAA', 'GAC', 'GCA', 'UUA', 'GGU', 'GAA', 'CCU', 'GGU', 'GGU', 'GCC', 'CUC', 'UGC', 'CUG', 'UAG']\n",
      "MERGKKKRISNKLQQTFHHSKEPTFLINQAGLLSSDSYSSLSPETESVNPGENIKTDTQKKRPGTVILSKLSSRRIISESQLSPPVIPARRPGFRVCYICGREFGSQSIAIHEPQCLQKWHIENSKLPKHLRRPEPSKPQSLSSSGSYSLQATNEAAFQSAQAQLLPCESCGRTFLPDHLLVHHRSCKPKGEGPRAPHSNSSDHLTGLKKACSGTPARPRTVICYICGKEFGTLSLPIHEPKCLEKWKMENDRLPVELHQPLPQKPQPLPNAQSSQAGPNQAQLVFCPHCSRIFTSDRLLVHQRSCKTHPYGPKYQNLNLGSKGGLKEYTNSKQQRNRAAPSVTDKVIHATQDALGEPGGALCL/\n"
     ]
    }
   ],
   "source": [
    "rna1 = rna_seqs[0]\n",
    "\n",
    "rna_seq_triplets = [rna1[i:i+3] for i in range(0, len(rna1), 3)]\n",
    "prot_seq = ''\n",
    "for triplets in rna_seq_triplets:\n",
    "    triplet_to_aa = genetic_code('gencode.txt')\n",
    "    prot_seq += triplet_to_aa[triplets]\n",
    "\n",
    "print(rna1)\n",
    "print(rna_seq_triplets)\n",
    "print(prot_seq)\n"
   ]
  },
  {
   "cell_type": "code",
   "execution_count": 11,
   "metadata": {},
   "outputs": [
    {
     "name": "stdout",
     "output_type": "stream",
     "text": [
      "['MERGKKKRISNKLQQTFHHSKEPTFLINQAGLLSSDSYSSLSPETESVNPGENIKTDTQKKRPGTVILSKLSSRRIISESQLSPPVIPARRPGFRVCYICGREFGSQSIAIHEPQCLQKWHIENSKLPKHLRRPEPSKPQSLSSSGSYSLQATNEAAFQSAQAQLLPCESCGRTFLPDHLLVHHRSCKPKGEGPRAPHSNSSDHLTGLKKACSGTPARPRTVICYICGKEFGTLSLPIHEPKCLEKWKMENDRLPVELHQPLPQKPQPLPNAQSSQAGPNQAQLVFCPHCSRIFTSDRLLVHQRSCKTHPYGPKYQNLNLGSKGGLKEYTNSKQQRNRAAPSVTDKVIHATQDALGEPGGALCL*', 'MMNRMAPENFQPDPFINRNDSNMKYEELEALFSQTMFPDRNLQEKLALKRNLLESTGKGLVQELAIQIEAAAAAAAAAAISKASKPDPFIQEECAHLP*', 'MDDSKGNGKRAKIRGKGPKIFLKSLLATLPNTSYVCASEPQLSPYLCEFFPGVNLLDVEHDRTNTGEQQSSKQMIVLHTKEVGMDIG*']\n"
     ]
    }
   ],
   "source": [
    "def translation(rna_seq_list):\n",
    "    \"\"\"Creates a list of protein sequences from a list of rna sequences\"\"\"\n",
    "    \n",
    "    prot_seq_list = []\n",
    "    for rna_seq in rna_seq_list:\n",
    "        rna_seq_triplets = [rna_seq[i:i+3] for i in range(0, len(rna_seq), 3)]\n",
    "        prot_seq = ''\n",
    "        \n",
    "        for triplet in rna_seq_triplets:\n",
    "            if len(triplet) == 3:\n",
    "                prot_seq += triplet_rna_aa[triplet]\n",
    "            else:\n",
    "                break\n",
    "                \n",
    "        prot_seq_list.append(prot_seq)\n",
    "    return prot_seq_list\n",
    "\n",
    "prot_seqs2 = translation(rna_seqs)\n",
    "print(prot_seqs2[0:3])\n"
   ]
  },
  {
   "cell_type": "code",
   "execution_count": 35,
   "metadata": {},
   "outputs": [
    {
     "name": "stdout",
     "output_type": "stream",
     "text": [
      "51756\n",
      "50969\n",
      "49638\n",
      "1332\n",
      "50970\n"
     ]
    }
   ],
   "source": [
    "#STOP treatments\n",
    "\n",
    "prot_seqsa = []\n",
    "for prot_seq in prot_seqs2:\n",
    "    stop = re.findall('\\*', prot_seq)\n",
    "    if stop != []:\n",
    "        prot_seqsa.append(prot_seq)\n",
    "        \n",
    "prot_seqsb = []\n",
    "for prot_seq in prot_seqs2:\n",
    "    stop = re.findall('\\*$', prot_seq)\n",
    "    if stop != []:\n",
    "        prot_seqsb.append(prot_seq)\n",
    "        \n",
    "prot_seqsc = []\n",
    "for prot_seq in prot_seqs2:\n",
    "    stop = re.findall('\\*.', prot_seq)\n",
    "    if stop != []:\n",
    "        prot_seqsc.append(prot_seq)\n",
    "\n",
    "print(len(prot_seqs2)) # all the sequences\n",
    "print(len(prot_seqsa)) # sequences with *\n",
    "print(len(prot_seqsb)) # sequences with * at the end\n",
    "print(len(prot_seqsc)) # sequences with * in the middle\n",
    "\n",
    "print(len(prot_seqsb)+len(prot_seqsc))"
   ]
  },
  {
   "cell_type": "code",
   "execution_count": 33,
   "metadata": {},
   "outputs": [
    {
     "name": "stdout",
     "output_type": "stream",
     "text": [
      "['MERGKKKRISNKLQQTFHHSKEPTFLINQAGLLSSDSYSSLSPETESVNPGENIKTDTQKKRPGTVILSKLSSRRIISESQLSPPVIPARRPGFRVCYICGREFGSQSIAIHEPQCLQKWHIENSKLPKHLRRPEPSKPQSLSSSGSYSLQATNEAAFQSAQAQLLPCESCGRTFLPDHLLVHHRSCKPKGEGPRAPHSNSSDHLTGLKKACSGTPARPRTVICYICGKEFGTLSLPIHEPKCLEKWKMENDRLPVELHQPLPQKPQPLPNAQSSQAGPNQAQLVFCPHCSRIFTSDRLLVHQRSCKTHPYGPKYQNLNLGSKGGLKEYTNSKQQRNRAAPSVTDKVIHATQDALGEPGGALCL', 'MMNRMAPENFQPDPFINRNDSNMKYEELEALFSQTMFPDRNLQEKLALKRNLLESTGKGLVQELAIQIEAAAAAAAAAAISKASKPDPFIQEECAHLP', 'MDDSKGNGKRAKIRGKGPKIFLKSLLATLPNTSYVCASEPQLSPYLCEFFPGVNLLDVEHDRTNTGEQQSSKQMIVLHTKEVGMDIG']\n",
      "51756\n"
     ]
    }
   ],
   "source": [
    "#Eliminate the '*' from the end of the translated protein\n",
    "\n",
    "def elim_stop (prot_seqs2):\n",
    "    \"\"\"Eliminates the '*' at the end of a translated sequence\"\"\"\n",
    "    prot_seqs3 = []\n",
    "    for prot_seq in prot_seqs2:\n",
    "        splitted = re.split('\\*', prot_seq)\n",
    "        prot_seqs3.append(splitted[0])\n",
    "    return prot_seqs3\n",
    "        \n",
    "prot_seqs3 = elim_stop(prot_seqs2)\n",
    "print(prot_seqs3[0:3])\n",
    "print(len(prot_seqs3))\n"
   ]
  },
  {
   "cell_type": "code",
   "execution_count": 36,
   "metadata": {},
   "outputs": [
    {
     "name": "stdout",
     "output_type": "stream",
     "text": [
      "51756\n",
      "['MERGKKKRISNKLQQTFHHSKEPTFLINQAGLLSSDSYSSLSPETESVNPGENIKTDTQKKRPGTVILSKLSSRRIISESQLSPPVIPARRPGFRVCYICGREFGSQSIAIHEPQCLQKWHIENSKLPKHLRRPEPSKPQSLSSSGSYSLQATNEAAFQSAQAQLLPCESCGRTFLPDHLLVHHRSCKPKGEGPRAPHSNSSDHLTGLKKACSGTPARPRTVICYICGKEFGTLSLPIHEPKCLEKWKMENDRLPVELHQPLPQKPQPLPNAQSSQAGPNQAQLVFCPHCSRIFTSDRLLVHQRSCKTHPYGPKYQNLNLGSKGGLKEYTNSKQQRNRAAPSVTDKVIHATQDALGEPGGALCL', 'MMNRMAPENFQPDPFINRNDSNMKYEELEALFSQTMFPDRNLQEKLALKRNLLESTGKGLVQELAIQIEAAAAAAAAAAISKASKPDPFIQEECAHLP', 'MDDSKGNGKRAKIRGKGPKIFLKSLLATLPNTSYVCASEPQLSPYLCEFFPGVNLLDVEHDRTNTGEQQSSKQMIVLHTKEVGMDIG']\n",
      "51756\n",
      "['MERGKKKRISNKLQQTFHHSKEPTFLINQAGLLSSDSYSSLSPETESVNPGENIKTDTQKKRPGTVILSKLSSRRIISESQLSPPVIPARRPGFRVCYICGREFGSQSIAIHEPQCLQKWHIENSKLPKHLRRPEPSKPQSLSSSGSYSLQATNEAAFQSAQAQLLPCESCGRTFLPDHLLVHHRSCKPKGEGPRAPHSNSSDHLTGLKKACSGTPARPRTVICYICGKEFGTLSLPIHEPKCLEKWKMENDRLPVELHQPLPQKPQPLPNAQSSQAGPNQAQLVFCPHCSRIFTSDRLLVHQRSCKTHPYGPKYQNLNLGSKGGLKEYTNSKQQRNRAAPSVTDKVIHATQDALGEPGGALCL', 'MMNRMAPENFQPDPFINRNDSNMKYEELEALFSQTMFPDRNLQEKLALKRNLLESTGKGLVQELAIQIEAAAAAAAAAAISKASKPDPFIQEECAHLP', 'MDDSKGNGKRAKIRGKGPKIFLKSLLATLPNTSYVCASEPQLSPYLCEFFPGVNLLDVEHDRTNTGEQQSSKQMIVLHTKEVGMDIG']\n"
     ]
    }
   ],
   "source": [
    "print(len(prot_seqs))\n",
    "print(prot_seqs[0:3])\n",
    "print(len(prot_seqs3))\n",
    "print(prot_seqs3[0:3])"
   ]
  },
  {
   "cell_type": "markdown",
   "metadata": {},
   "source": [
    "### 3. List all proteins containing c-terminal degrons\n",
    "- Find c-degrons (main function):"
   ]
  },
  {
   "cell_type": "code",
   "execution_count": 37,
   "metadata": {},
   "outputs": [],
   "source": [
    "def find_cdegron(prot_seq_list, cdegron_motif):\n",
    "    \"\"\"Finds all proteins containing c-terminal degrons (cdegrons)\n",
    "    input: a list of protein sequences and the c-degron motif\n",
    "    return: a list of protein sequences containing the c-degron motif\"\"\"\n",
    "    cdegron_seq_list = []\n",
    "    for prot_seq in prot_seq_list:\n",
    "        find_cdegron_motif = re.findall(cdegron_motif, prot_seq)\n",
    "        if find_cdegron_motif != []:\n",
    "            cdegron_seq_list.append(prot_seq)\n",
    "    return cdegron_seq_list\n"
   ]
  },
  {
   "cell_type": "code",
   "execution_count": null,
   "metadata": {},
   "outputs": [],
   "source": [
    "#Pending: function to find degrons from cdna sequences\n",
    "#make if statements: if cdna... if protein... else print(\"The sequence cannot be recognized. Please upload a list of cdnas or proteins\")..."
   ]
  },
  {
   "cell_type": "code",
   "execution_count": null,
   "metadata": {},
   "outputs": [],
   "source": [
    "#Make function to use df as input and output, with id\n",
    "\n",
    "def find_cdegron(prot_df, cdegron_motif):\n",
    "    \"\"\"Finds all proteins containing c-terminal degrons (cdegrons)\n",
    "    input: a list of protein sequences and the c-degron motif\n",
    "    return: a list of protein sequences containing the c-degron motif\"\"\"\n",
    "    #cdegron_seq_list = []\n",
    "    \n",
    "    for prot_seq in prot_df:\n",
    "        find_cdegron_motif = re.findall(cdegron_motif, prot_seq)\n",
    "        if find_cdegron_motif != []:\n",
    "            cdegron_seq_list.append(prot_seq)\n",
    "    return cdegron_seq_df\n",
    "\n",
    "find_cdegron()"
   ]
  },
  {
   "cell_type": "code",
   "execution_count": 9,
   "metadata": {},
   "outputs": [
    {
     "data": {
      "text/html": [
       "<div>\n",
       "<style scoped>\n",
       "    .dataframe tbody tr th:only-of-type {\n",
       "        vertical-align: middle;\n",
       "    }\n",
       "\n",
       "    .dataframe tbody tr th {\n",
       "        vertical-align: top;\n",
       "    }\n",
       "\n",
       "    .dataframe thead th {\n",
       "        text-align: right;\n",
       "    }\n",
       "</style>\n",
       "<table border=\"1\" class=\"dataframe\">\n",
       "  <thead>\n",
       "    <tr style=\"text-align: right;\">\n",
       "      <th></th>\n",
       "      <th>ID</th>\n",
       "      <th>Sequences</th>\n",
       "    </tr>\n",
       "  </thead>\n",
       "  <tbody>\n",
       "    <tr>\n",
       "      <td>0</td>\n",
       "      <td>GENSCAN00000000001</td>\n",
       "      <td>MERGKKKRISNKLQQTFHHSKEPTFLINQAGLLSSDSYSSLSPETE...</td>\n",
       "    </tr>\n",
       "    <tr>\n",
       "      <td>1</td>\n",
       "      <td>GENSCAN00000000002</td>\n",
       "      <td>MMNRMAPENFQPDPFINRNDSNMKYEELEALFSQTMFPDRNLQEKL...</td>\n",
       "    </tr>\n",
       "    <tr>\n",
       "      <td>2</td>\n",
       "      <td>GENSCAN00000000003</td>\n",
       "      <td>MDDSKGNGKRAKIRGKGPKIFLKSLLATLPNTSYVCASEPQLSPYL...</td>\n",
       "    </tr>\n",
       "  </tbody>\n",
       "</table>\n",
       "</div>"
      ],
      "text/plain": [
       "                   ID                                          Sequences\n",
       "0  GENSCAN00000000001  MERGKKKRISNKLQQTFHHSKEPTFLINQAGLLSSDSYSSLSPETE...\n",
       "1  GENSCAN00000000002  MMNRMAPENFQPDPFINRNDSNMKYEELEALFSQTMFPDRNLQEKL...\n",
       "2  GENSCAN00000000003  MDDSKGNGKRAKIRGKGPKIFLKSLLATLPNTSYVCASEPQLSPYL..."
      ]
     },
     "execution_count": 9,
     "metadata": {},
     "output_type": "execute_result"
    }
   ],
   "source": [
    "prot_df[0:3]"
   ]
  },
  {
   "cell_type": "markdown",
   "metadata": {},
   "source": [
    "- Functions for finding more than one c-degron motif in a given prot_seqs list:"
   ]
  },
  {
   "cell_type": "code",
   "execution_count": 38,
   "metadata": {},
   "outputs": [],
   "source": [
    "cdegron_motifs = ['GG', 'RG', 'PG', 'XR', 'RXXG', 'EE', 'RXX', 'VX', 'AX', 'A']\n",
    "\n",
    "#Prepare cdegron list to re terms:\n",
    "def cdegron_to_re (cdegron_motifs):\n",
    "    \"\"\"This function converts a list of c-degron motifs to regular expressions\"\"\"\n",
    "    cdegron_motifs_re = []\n",
    "    for motif in cdegron_motifs:\n",
    "        motif_re = motif +'$'\n",
    "        cdegron_motifs_re.append(motif_re)\n",
    "    cdegron_motifs_re = [c.replace('X', '.') for c in cdegron_motifs_re]\n",
    "    return cdegron_motifs_re"
   ]
  },
  {
   "cell_type": "code",
   "execution_count": 39,
   "metadata": {},
   "outputs": [],
   "source": [
    "#Search for each cdegron motif in a list of protein sequences:\n",
    "\n",
    "def find_cdegron_list(cdegron_motifs, prot_seqs):\n",
    "    \"\"\"This function finds all cdegron motifs provided in a list\"\"\"\n",
    "    cdegron_motifs_re = cdegron_to_re(cdegron_motifs)\n",
    "    n_cdegron_motifs = []\n",
    "    for i in range(len(cdegron_motifs_re)):\n",
    "        motif = cdegron_motifs_re[i]\n",
    "        cdegron_prot_list = find_cdegron(prot_seqs, motif)\n",
    "        n_cdegron_motifs.append(len(cdegron_prot_list))\n",
    "    return n_cdegron_motifs"
   ]
  },
  {
   "cell_type": "code",
   "execution_count": 40,
   "metadata": {},
   "outputs": [],
   "source": [
    "#Calculate the percentage of each c-degron motif:\n",
    "\n",
    "def percentages_cdegron (n_cdegron_motifs, prot_seqs):\n",
    "    \"\"\"This function calculates the percentage of proteins containing each c-degron provided\"\"\"\n",
    "    percent_degron_list = []\n",
    "    for i in range(len(n_cdegron_motifs)):\n",
    "        percent_degron_i = round(n_cdegron_motifs[i]/len(prot_seqs)*100, 3)\n",
    "        percent_degron_list.append(percent_degron_i)\n",
    "    total_n_cdegron = sum(n_cdegron_motifs)\n",
    "    percent_degrons_total = round(total_n_cdegron/len(prot_seqs)*100, 3)\n",
    "    return [total_n_cdegron, percent_degron_list, percent_degrons_total]\n"
   ]
  },
  {
   "cell_type": "code",
   "execution_count": 41,
   "metadata": {},
   "outputs": [],
   "source": [
    "#Results summary message:\n",
    "\n",
    "def results_summary (cdegron_motifs, n_cdegron_motifs, percentages_degrons, prot_seqs):\n",
    "    \"\"\"This function displays a summary of the results\"\"\"\n",
    "    total_n_cdegron = percentages_degrons[0]\n",
    "    percent_degron_list = percentages_degrons[1]\n",
    "    percent_degrons_total = percentages_degrons[2]\n",
    "    \n",
    "    sentence1 = \"The protein list you provided harbors:\\n\" \n",
    "    sentence2 = \"\"\n",
    "    for i in range(len(cdegron_motifs)): \n",
    "        sentencei = \"- {} proteins with the {} c-degron motif ({} %)\\n\".format(str(n_cdegron_motifs[i]), str(cdegron_motifs[i]), str(percent_degron_list[i]))\n",
    "        sentence2 += sentencei\n",
    "    sentence3 = \"- {} proteins with all c-degron motifs ({}%)\\n\".format(str(total_n_cdegron), str(percent_degrons_total))\n",
    "\n",
    "    sentence4 = \"from a total {} proteins.\\n\".format(str(len(prot_seqs)))\n",
    "    sentence5 = sentence1 + sentence2 + sentence3 + sentence4\n",
    "    return sentence5\n",
    "\n",
    "#Pending: create a dataframe with sequences for each cdegron motif"
   ]
  },
  {
   "cell_type": "markdown",
   "metadata": {},
   "source": [
    "- Test the functions:  \n",
    "a) prot_seqs3 (translated from cdnas, and eliminated *)"
   ]
  },
  {
   "cell_type": "code",
   "execution_count": 42,
   "metadata": {},
   "outputs": [
    {
     "name": "stdout",
     "output_type": "stream",
     "text": [
      "['GG$', 'RG$', 'PG$', '.R$', 'R..G$', 'EE$', 'R..$', 'V.$', 'A.$', 'A$']\n",
      "[204, 230, 186, 2322, 171, 301, 2993, 2587, 3225, 3111]\n",
      "[15330, [0.394, 0.444, 0.359, 4.486, 0.33, 0.582, 5.783, 4.998, 6.231, 6.011], 29.62]\n",
      "The protein list you provided harbors:\n",
      "- 204 proteins with the GG c-degron motif (0.394 %)\n",
      "- 230 proteins with the RG c-degron motif (0.444 %)\n",
      "- 186 proteins with the PG c-degron motif (0.359 %)\n",
      "- 2322 proteins with the XR c-degron motif (4.486 %)\n",
      "- 171 proteins with the RXXG c-degron motif (0.33 %)\n",
      "- 301 proteins with the EE c-degron motif (0.582 %)\n",
      "- 2993 proteins with the RXX c-degron motif (5.783 %)\n",
      "- 2587 proteins with the VX c-degron motif (4.998 %)\n",
      "- 3225 proteins with the AX c-degron motif (6.231 %)\n",
      "- 3111 proteins with the A c-degron motif (6.011 %)\n",
      "- 15330 proteins with all c-degron motifs (29.62%)\n",
      "from a total 51756 proteins.\n",
      "\n"
     ]
    }
   ],
   "source": [
    "#Data:\n",
    "cdegron_motifs = ['GG', 'RG', 'PG', 'XR', 'RXXG', 'EE', 'RXX', 'VX', 'AX', 'A']\n",
    "prot_seqs1000 = prot_seqs[0:1000]\n",
    "\n",
    "#cdegron_to_re\n",
    "cdegron_re = cdegron_to_re(cdegron_motifs)\n",
    "print(cdegron_re)\n",
    "\n",
    "#find_cdegron_list\n",
    "cdegron_list3 = find_cdegron_list(cdegron_motifs, prot_seqs3)\n",
    "print(cdegron_list3)\n",
    "\n",
    "#percentages_cdegron\n",
    "percents3 = percentages_cdegron(cdegron_list3, prot_seqs3)\n",
    "print(percents3)\n",
    "\n",
    "#results_summary\n",
    "output3 = results_summary(cdegron_motifs, cdegron_list3, percents3, prot_seqs3)\n",
    "print(output3)\n",
    "\n",
    "#Pending: Implement functions inside other functions!!\n"
   ]
  },
  {
   "cell_type": "markdown",
   "metadata": {},
   "source": [
    "b) prot_seqs"
   ]
  },
  {
   "cell_type": "code",
   "execution_count": 43,
   "metadata": {},
   "outputs": [
    {
     "name": "stdout",
     "output_type": "stream",
     "text": [
      "['GG$', 'RG$', 'PG$', '.R$', 'R..G$', 'EE$', 'R..$', 'V.$', 'A.$', 'A$']\n",
      "[201, 239, 184, 2283, 176, 308, 2960, 2590, 3221, 3144]\n",
      "[15306, [0.388, 0.462, 0.356, 4.411, 0.34, 0.595, 5.719, 5.004, 6.223, 6.075], 29.573]\n",
      "The protein list you provided harbors:\n",
      "- 201 proteins with the GG c-degron motif (0.388 %)\n",
      "- 239 proteins with the RG c-degron motif (0.462 %)\n",
      "- 184 proteins with the PG c-degron motif (0.356 %)\n",
      "- 2283 proteins with the XR c-degron motif (4.411 %)\n",
      "- 176 proteins with the RXXG c-degron motif (0.34 %)\n",
      "- 308 proteins with the EE c-degron motif (0.595 %)\n",
      "- 2960 proteins with the RXX c-degron motif (5.719 %)\n",
      "- 2590 proteins with the VX c-degron motif (5.004 %)\n",
      "- 3221 proteins with the AX c-degron motif (6.223 %)\n",
      "- 3144 proteins with the A c-degron motif (6.075 %)\n",
      "- 15306 proteins with all c-degron motifs (29.573%)\n",
      "from a total 51756 proteins.\n",
      "\n"
     ]
    }
   ],
   "source": [
    "#Data:\n",
    "cdegron_motifs = ['GG', 'RG', 'PG', 'XR', 'RXXG', 'EE', 'RXX', 'VX', 'AX', 'A']\n",
    "\n",
    "#cdegron_to_re\n",
    "cdegron_re = cdegron_to_re(cdegron_motifs)\n",
    "print(cdegron_re)\n",
    "\n",
    "#find_cdegron_list\n",
    "cdegron_list = find_cdegron_list(cdegron_motifs, prot_seqs)\n",
    "print(cdegron_list)\n",
    "\n",
    "#percentages_cdegron\n",
    "percents = percentages_cdegron(cdegron_list, prot_seqs)\n",
    "print(percents)\n",
    "\n",
    "#results_summary\n",
    "output = results_summary(cdegron_motifs, cdegron_list, percents, prot_seqs)\n",
    "print(output)\n",
    "\n",
    "#Pending: Implement functions inside other functions!!"
   ]
  },
  {
   "cell_type": "code",
   "execution_count": null,
   "metadata": {},
   "outputs": [],
   "source": [
    "#Pending: List and enumerate all proteins containing c-degrons: ANNOTATION, pandas\n",
    "\n",
    "\n",
    "#Pending: Save outputs (protein ids+seqs, summary, etc) in files"
   ]
  },
  {
   "cell_type": "markdown",
   "metadata": {},
   "source": [
    "## Data visualisation"
   ]
  },
  {
   "cell_type": "code",
   "execution_count": null,
   "metadata": {},
   "outputs": [],
   "source": [
    "# Percentages, etc...\n",
    "\n"
   ]
  }
 ],
 "metadata": {
  "kernelspec": {
   "display_name": "Python 3",
   "language": "python",
   "name": "python3"
  },
  "language_info": {
   "codemirror_mode": {
    "name": "ipython",
    "version": 3
   },
   "file_extension": ".py",
   "mimetype": "text/x-python",
   "name": "python",
   "nbconvert_exporter": "python",
   "pygments_lexer": "ipython3",
   "version": "3.7.4"
  }
 },
 "nbformat": 4,
 "nbformat_minor": 4
}
