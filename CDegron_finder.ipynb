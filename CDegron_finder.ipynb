{
 "cells": [
  {
   "cell_type": "markdown",
   "metadata": {},
   "source": [
    "# Python app: Find proteins containing c-terminal degrons\n",
    "\n",
    "This app finds and selects all proteins that contain c-terminal degrons."
   ]
  },
  {
   "cell_type": "markdown",
   "metadata": {},
   "source": [
    "1. Upload human gene data &rarr; anotate gene_name, transcript_name, protein_name\n",
    "\n",
    "2. Transcribe and translate &rarr; anotate proteins\n",
    "\n",
    "3. Find c-degron sequences: use consensus sequences  \n",
    "\n",
    "|C-degrons|\n",
    "|---------:|\n",
    "|-GG|  \n",
    "|-RG|  \n",
    "|-PG|  \n",
    "|-XR|  \n",
    "|-RXXG|  \n",
    "|-EE| \n",
    "|-RXX|  \n",
    "|-VX|  \n",
    "|-AX|  \n",
    "|-A|    \n",
    "\n",
    "Varshavsky *et al* 2019 (**Fig S3** Supl material)  \n",
    "Lin *et al* 2018  "
   ]
  },
  {
   "cell_type": "markdown",
   "metadata": {},
   "source": [
    "### 1. Upload genomic data"
   ]
  },
  {
   "cell_type": "code",
   "execution_count": null,
   "metadata": {},
   "outputs": [],
   "source": [
    "#upload data, use pyensembl (pypi.org/project/pyensembl/)\n",
    "#List all cDNA/cds sequences"
   ]
  },
  {
   "cell_type": "markdown",
   "metadata": {},
   "source": [
    "### 2. Gene transcription and translation"
   ]
  },
  {
   "cell_type": "code",
   "execution_count": null,
   "metadata": {},
   "outputs": [],
   "source": [
    "#Transcribe & translate\n",
    "#Dictionaries: transcription and translation"
   ]
  },
  {
   "cell_type": "markdown",
   "metadata": {},
   "source": [
    "### 3. List all proteins containing c-terminal degrons"
   ]
  },
  {
   "cell_type": "code",
   "execution_count": null,
   "metadata": {},
   "outputs": [],
   "source": [
    "#Find c-degrons\n",
    "#Use regular expressions\n",
    "#List and enumerate all proteins containing c-degrons.\n",
    "#Which proportion of the total are?"
   ]
  }
 ],
 "metadata": {
  "kernelspec": {
   "display_name": "Python 3",
   "language": "python",
   "name": "python3"
  },
  "language_info": {
   "codemirror_mode": {
    "name": "ipython",
    "version": 3
   },
   "file_extension": ".py",
   "mimetype": "text/x-python",
   "name": "python",
   "nbconvert_exporter": "python",
   "pygments_lexer": "ipython3",
   "version": "3.7.4"
  }
 },
 "nbformat": 4,
 "nbformat_minor": 4
}
